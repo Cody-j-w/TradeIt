{
 "cells": [
  {
   "cell_type": "markdown",
   "metadata": {},
   "source": [
    "Hello<br>\n",
    "Welcome to more chaos"
   ]
  },
  {
   "cell_type": "code",
   "execution_count": 19,
   "metadata": {},
   "outputs": [
    {
     "name": "stdout",
     "output_type": "stream",
     "text": [
      "howdy\n"
     ]
    }
   ],
   "source": [
    "import pandas as pd\n",
    "from sentence_transformers import SentenceTransformer\n",
    "# ^^ hugging face library for word embeddings\n",
    "import sqlite3\n",
    "import re\n",
    "from sklearn.decomposition import PCA\n",
    "import matplotlib.pyplot as plt\n",
    "import seaborn as sns\n",
    "from sklearn.metrics.pairwise import cosine_similarity\n",
    "import random\n",
    "from keybert import KeyBERT\n",
    "\n",
    "print(\"howdy\")"
   ]
  },
  {
   "cell_type": "markdown",
   "metadata": {},
   "source": [
    "Ok so first I'm going to just pull the data for seeing the posts with tags that the user has liked most. <br>\n",
    "We're also going to come up with a query for the random user to see what tags they like <br>\n",
    "Honestly we can't <i>really</i> test this data with our dummy data, so we kind of just have to trust."
   ]
  },
  {
   "cell_type": "code",
   "execution_count": 20,
   "metadata": {},
   "outputs": [
    {
     "name": "stdout",
     "output_type": "stream",
     "text": [
      "User ID populated: 206\n"
     ]
    }
   ],
   "source": [
    "# Pull random user\n",
    "\n",
    "user = random.randint(0,500)\n",
    "\n",
    "liked_posts_query = \\\n",
    "f\"SELECT posts.tags \\\n",
    "FROM likes \\\n",
    "JOIN posts on likes.post_id = posts.id \\\n",
    "WHERE likes.user_id = {user}\"\n",
    "\n",
    "user_query = \\\n",
    "f\"SELECT * FROM users WHERE id={user}\"\n",
    "\n",
    "print(f\"User ID populated: {user}\")"
   ]
  },
  {
   "cell_type": "code",
   "execution_count": 21,
   "metadata": {},
   "outputs": [
    {
     "name": "stdout",
     "output_type": "stream",
     "text": [
      "    id           name               email  \\\n",
      "0  206  Angelica Carr  lisa29@example.net   \n",
      "\n",
      "                                                bios  \n",
      "0  Situation discussion cell talk address but som...  \n",
      "                                                 tags\n",
      "0                    perfumesColognes, antiqueJewelry\n",
      "1                       scooterParts, rareManuscripts\n",
      "2                  customStickers, musicalInstruments\n",
      "3      sewingMachines, scooterParts, designerHandbags\n",
      "4                                 mechanicalKeyboards\n",
      "5                   gourmetFoodItems, artisanalCheese\n",
      "6               textbooks, hikingGear, embroideryKits\n",
      "7                paintballEquipment, gourmetFoodItems\n",
      "8                                           tailoring\n",
      "9                                          VRHeadsets\n",
      "10              tutoring, bikeRepairs, customClothing\n",
      "11         handmadeJewelry, tutoring, collectiblePins\n",
      "12               collectiblePins, rareCoinsOrCurrency\n",
      "13                     retroToys, vintageVinylRecords\n",
      "14                                              bread\n",
      "15                                     embroideryKits\n",
      "16       fitnessTrackers, graphicDesign, tradingCards\n",
      "17                                      craftSupplies\n",
      "18      rareBoardGames, vintageLamps, collectiblePins\n",
      "19  horrorMemorabilia, petSittingDogWalking, recor...\n",
      "20  embroideryKits, rareBoardGames, fashionAccesso...\n",
      "21                                        voiceActing\n",
      "22                        customArt, vintagePostcards\n",
      "23                                      tattooDesigns\n",
      "24                               graphicDesign, books\n",
      "25                             autographedMemorabilia\n",
      "26  petSittingDogWalking, antiqueFurniture, skateb...\n",
      "27                      vinylPlayers, sportsEquipment\n",
      "28                 artisanalCheese, kitchenAppliances\n",
      "29                  gourmetFoodItems, sportsEquipment\n",
      "30     autographedMemorabilia, sneakers, leatherGoods\n",
      "31  knittingSupplies, clayModelingKits, scrapbooki...\n",
      "32                                          webDesign\n",
      "33    bluRaysDvds, graphicNovels, vintageVinylRecords\n",
      "34                       watches, exoticSpices, books\n",
      "35         vintagePostcards, puzzles, artisanalCheese\n",
      "36                        costumeJewelry, artSupplies\n",
      "37               petSittingDogWalking, customClothing\n",
      "38                             tailoring, fishingGear\n",
      "39                          textbooks, rareBoardGames\n",
      "40                                          textbooks\n",
      "41                             diyTools, freshProduce\n",
      "42                                   designerHandbags\n",
      "43                                  puzzles, localArt\n",
      "44                                      graphicNovels\n",
      "45                                         customToys\n",
      "46                                         customToys\n",
      "47                                     customClothing\n",
      "48                       clayModelingKits, sunglasses\n",
      "49                                     rareBoardGames\n",
      "50                                        houseplants\n",
      "51                                       vinylPlayers\n",
      "52                                              books\n",
      "53                             autographedMemorabilia\n"
     ]
    }
   ],
   "source": [
    "con = sqlite3.connect(\"/home/acequantum/playtime/dummy_data/1_dummy_data.db\")\n",
    "\n",
    "df_user = pd.read_sql_query(user_query, con)\n",
    "\n",
    "print(df_user)\n",
    "\n",
    "df_liked_posts = pd.read_sql_query(liked_posts_query, con)\n",
    "\n",
    "print(df_liked_posts)\n",
    "\n",
    "con.close()"
   ]
  },
  {
   "cell_type": "code",
   "execution_count": 22,
   "metadata": {},
   "outputs": [
    {
     "name": "stdout",
     "output_type": "stream",
     "text": [
      "                                                 tags\n",
      "0                  perfumes Colognes, antique Jewelry\n",
      "1                     scooter Parts, rare Manuscripts\n",
      "2                custom Stickers, musical Instruments\n",
      "3   sewing Machines, scooter Parts, designer Handbags\n",
      "4                                mechanical Keyboards\n",
      "5                gourmet Food Items, artisanal Cheese\n",
      "6             textbooks, hiking Gear, embroidery Kits\n",
      "7             paintball Equipment, gourmet Food Items\n",
      "8                                           tailoring\n",
      "9                                          VRHeadsets\n",
      "10            tutoring, bike Repairs, custom Clothing\n",
      "11       handmade Jewelry, tutoring, collectible Pins\n",
      "12           collectible Pins, rare Coins Or Currency\n",
      "13                  retro Toys, vintage Vinyl Records\n",
      "14                                              bread\n",
      "15                                    embroidery Kits\n",
      "16    fitness Trackers, graphic Design, trading Cards\n",
      "17                                     craft Supplies\n",
      "18  rare Board Games, vintage Lamps, collectible Pins\n",
      "19  horror Memorabilia, pet Sitting Dog Walking, r...\n",
      "20  embroidery Kits, rare Board Games, fashion Acc...\n",
      "21                                       voice Acting\n",
      "22                      custom Art, vintage Postcards\n",
      "23                                     tattoo Designs\n",
      "24                              graphic Design, books\n",
      "25                            autographed Memorabilia\n",
      "26  pet Sitting Dog Walking, antique Furniture, sk...\n",
      "27                    vinyl Players, sports Equipment\n",
      "28               artisanal Cheese, kitchen Appliances\n",
      "29               gourmet Food Items, sports Equipment\n",
      "30   autographed Memorabilia, sneakers, leather Goods\n",
      "31  knitting Supplies, clay Modeling Kits, scrapbo...\n",
      "32                                         web Design\n",
      "33  blu Rays Dvds, graphic Novels, vintage Vinyl R...\n",
      "34                      watches, exotic Spices, books\n",
      "35       vintage Postcards, puzzles, artisanal Cheese\n",
      "36                      costume Jewelry, art Supplies\n",
      "37           pet Sitting Dog Walking, custom Clothing\n",
      "38                            tailoring, fishing Gear\n",
      "39                        textbooks, rare Board Games\n",
      "40                                          textbooks\n",
      "41                           diy Tools, fresh Produce\n",
      "42                                  designer Handbags\n",
      "43                                 puzzles, local Art\n",
      "44                                     graphic Novels\n",
      "45                                        custom Toys\n",
      "46                                        custom Toys\n",
      "47                                    custom Clothing\n",
      "48                     clay Modeling Kits, sunglasses\n",
      "49                                   rare Board Games\n",
      "50                                        houseplants\n",
      "51                                      vinyl Players\n",
      "52                                              books\n",
      "53                            autographed Memorabilia\n"
     ]
    }
   ],
   "source": [
    "def camel_case_split(str):\n",
    "    return re.sub(r'([a-z])([A-Z])',\n",
    "                      r'\\1 \\2', str)\n",
    "\n",
    "df_liked_posts['tags'] = df_liked_posts['tags'].apply(camel_case_split)\n",
    "\n",
    "print(df_liked_posts)\n"
   ]
  },
  {
   "cell_type": "code",
   "execution_count": 24,
   "metadata": {},
   "outputs": [
    {
     "name": "stdout",
     "output_type": "stream",
     "text": [
      "all tags: ['perfumes Colognes', 'antique Jewelry', 'scooter Parts', 'rare Manuscripts', 'custom Stickers', 'musical Instruments', 'sewing Machines', 'scooter Parts', 'designer Handbags', 'mechanical Keyboards', 'gourmet Food Items', 'artisanal Cheese', 'textbooks', 'hiking Gear', 'embroidery Kits', 'paintball Equipment', 'gourmet Food Items', 'tailoring', 'VRHeadsets', 'tutoring', 'bike Repairs', 'custom Clothing', 'handmade Jewelry', 'tutoring', 'collectible Pins', 'collectible Pins', 'rare Coins Or Currency', 'retro Toys', 'vintage Vinyl Records', 'bread', 'embroidery Kits', 'fitness Trackers', 'graphic Design', 'trading Cards', 'craft Supplies', 'rare Board Games', 'vintage Lamps', 'collectible Pins', 'horror Memorabilia', 'pet Sitting Dog Walking', 'recording Equipment', 'embroidery Kits', 'rare Board Games', 'fashion Accessories', 'voice Acting', 'custom Art', 'vintage Postcards', 'tattoo Designs', 'graphic Design', 'books', 'autographed Memorabilia', 'pet Sitting Dog Walking', 'antique Furniture', 'skateboards', 'vinyl Players', 'sports Equipment', 'artisanal Cheese', 'kitchen Appliances', 'gourmet Food Items', 'sports Equipment', 'autographed Memorabilia', 'sneakers', 'leather Goods', 'knitting Supplies', 'clay Modeling Kits', 'scrapbooking Materials', 'web Design', 'blu Rays Dvds', 'graphic Novels', 'vintage Vinyl Records', 'watches', 'exotic Spices', 'books', 'vintage Postcards', 'puzzles', 'artisanal Cheese', 'costume Jewelry', 'art Supplies', 'pet Sitting Dog Walking', 'custom Clothing', 'tailoring', 'fishing Gear', 'textbooks', 'rare Board Games', 'textbooks', 'diy Tools', 'fresh Produce', 'designer Handbags', 'puzzles', 'local Art', 'graphic Novels', 'custom Toys', 'custom Toys', 'custom Clothing', 'clay Modeling Kits', 'sunglasses', 'rare Board Games', 'houseplants', 'vinyl Players', 'books', 'autographed Memorabilia']\n"
     ]
    }
   ],
   "source": [
    "df_liked_posts['new_tags'] = df_liked_posts['tags'].str.split(', ')\n",
    "\n",
    "all_tags = df_liked_posts['new_tags'].explode()\n",
    "\n",
    "print(f\"all tags: {all_tags.tolist()}\")"
   ]
  },
  {
   "cell_type": "code",
   "execution_count": 29,
   "metadata": {},
   "outputs": [
    {
     "name": "stdout",
     "output_type": "stream",
     "text": [
      "                        tag  count\n",
      "0          rare Board Games      4\n",
      "1        gourmet Food Items      3\n",
      "2           embroidery Kits      3\n",
      "3                     books      3\n",
      "4   autographed Memorabilia      3\n",
      "..                      ...    ...\n",
      "62             fishing Gear      1\n",
      "63            fresh Produce      1\n",
      "64                local Art      1\n",
      "65               sunglasses      1\n",
      "66              houseplants      1\n",
      "\n",
      "[67 rows x 2 columns]\n",
      "<class 'pandas.core.frame.DataFrame'>\n",
      "101\n"
     ]
    }
   ],
   "source": [
    "tag_counts = all_tags.value_counts().sort_values(ascending=False).reset_index()\n",
    "\n",
    "tag_counts.columns = ['tag', 'count']\n",
    "print(tag_counts)\n",
    "# print(f\"total liked tags: {}\")\n",
    "print(type(tag_counts))\n",
    "total = tag_counts['count'].sum()\n",
    "print(total)"
   ]
  },
  {
   "cell_type": "code",
   "execution_count": 33,
   "metadata": {},
   "outputs": [
    {
     "name": "stdout",
     "output_type": "stream",
     "text": [
      "33    mechanical Keyboards\n",
      "6         artisanal Cheese\n",
      "63           fresh Produce\n",
      "Name: tag, dtype: object\n"
     ]
    }
   ],
   "source": [
    "# Tbh these embeddings won't really make sense but we'll do what we can.\n",
    "# I also need to just straight up grab stuff I guess.\n",
    "# I guess I'll start with the weighted die roll.\n",
    "# I have no idea how to do that.\n",
    "\n",
    "random_sample = tag_counts.sample(n=3, weights='count')['tag']\n",
    "\n",
    "print(random_sample)"
   ]
  },
  {
   "cell_type": "code",
   "execution_count": 34,
   "metadata": {},
   "outputs": [
    {
     "name": "stdout",
     "output_type": "stream",
     "text": [
      "   id  user_id trade_status  \\\n",
      "0   1        1         None   \n",
      "1   2        1         None   \n",
      "2   3        2         None   \n",
      "3   4        2         None   \n",
      "4   5        2         None   \n",
      "\n",
      "                                                tags  \\\n",
      "0     mangaAnimeMerch, diyTools, mechanicalKeyboards   \n",
      "1  collectiblePins, petSittingDogWalking, vintage...   \n",
      "2                             customToys, bakedGoods   \n",
      "3     clayModelingKits, codingLessons, tattooDesigns   \n",
      "4                 leatherGoods, bikeRepairs, watches   \n",
      "\n",
      "                                                text  \\\n",
      "0  Really describe particularly whose opportunity...   \n",
      "1  Analysis father board everybody. Car begin evi...   \n",
      "2  Per assume community dog happy really stop. Ch...   \n",
      "3  By song new know. Particularly third all inves...   \n",
      "4  Three writer policy building. Offer the capita...   \n",
      "\n",
      "                                            new_tags  \n",
      "0  manga Anime Merch, diy Tools, mechanical Keybo...  \n",
      "1  collectible Pins, pet Sitting Dog Walking, vin...  \n",
      "2                           custom Toys, baked Goods  \n",
      "3  clay Modeling Kits, coding Lessons, tattoo Des...  \n",
      "4               leather Goods, bike Repairs, watches  \n"
     ]
    }
   ],
   "source": [
    "# Ok so we have a random sampling of tags, \n",
    "# let's grab 3 random posts with those tags,\n",
    "# And return the ones that have the most likes\n",
    "con = sqlite3.connect(\"/home/acequantum/playtime/dummy_data/1_dummy_data.db\")\n",
    "\n",
    "df_all_posts = pd.read_sql_query(\"SELECT * FROM posts;\", con)\n",
    "\n",
    "df_all_posts['new_tags'] = df_all_posts['tags']\n",
    "\n",
    "df_all_posts['new_tags'] = df_all_posts['tags'].apply(camel_case_split)\n",
    "\n",
    "print(df_all_posts.head())\n",
    "\n",
    "con.close()"
   ]
  }
 ],
 "metadata": {
  "kernelspec": {
   "display_name": "Python 3",
   "language": "python",
   "name": "python3"
  },
  "language_info": {
   "codemirror_mode": {
    "name": "ipython",
    "version": 3
   },
   "file_extension": ".py",
   "mimetype": "text/x-python",
   "name": "python",
   "nbconvert_exporter": "python",
   "pygments_lexer": "ipython3",
   "version": "3.10.12"
  }
 },
 "nbformat": 4,
 "nbformat_minor": 2
}

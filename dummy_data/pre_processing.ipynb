{
 "cells": [
  {
   "cell_type": "markdown",
   "metadata": {},
   "source": [
    "Lots to do, so we're gonna start with some basic pre-processing<br>\n",
    "I'm not sure what else we need at this time other than tokenizing the tags you've generated<br>\n",
    "I'll also take a look at how BERT might help us out."
   ]
  },
  {
   "cell_type": "code",
   "execution_count": 1,
   "metadata": {},
   "outputs": [
    {
     "name": "stderr",
     "output_type": "stream",
     "text": [
      "/home/acequantum/.local/lib/python3.10/site-packages/tqdm/auto.py:21: TqdmWarning: IProgress not found. Please update jupyter and ipywidgets. See https://ipywidgets.readthedocs.io/en/stable/user_install.html\n",
      "  from .autonotebook import tqdm as notebook_tqdm\n"
     ]
    }
   ],
   "source": [
    "import pandas as pd\n",
    "from sentence_transformers import SentenceTransformer\n",
    "# ^^ hugging face library for word embeddings\n",
    "import sqlite3\n",
    "import re\n",
    "from sklearn.decomposition import PCA\n",
    "import matplotlib.pyplot as plt\n",
    "import seaborn as sns\n",
    "from sklearn.metrics.pairwise import cosine_similarity\n",
    "import random\n",
    "from keybert import KeyBERT\n",
    "\n",
    "# print(\"howdy\")"
   ]
  },
  {
   "cell_type": "markdown",
   "metadata": {},
   "source": [
    "Ok so now I pull data from database<br>\n",
    "I definitely remember how to do that"
   ]
  },
  {
   "cell_type": "code",
   "execution_count": 5,
   "metadata": {},
   "outputs": [],
   "source": [
    "# Function for splitting camel case\n",
    "# https://www.geeksforgeeks.org/python-split-camelcase-string-to-individual-strings/\n",
    "\n",
    "def camel_case_split(str):\n",
    "    return re.sub(r'([a-z])([A-Z])',\n",
    "                      r'\\1 \\2', str)"
   ]
  },
  {
   "cell_type": "code",
   "execution_count": 6,
   "metadata": {},
   "outputs": [
    {
     "name": "stdout",
     "output_type": "stream",
     "text": [
      "   id  user_id trade_status  \\\n",
      "0   1        1         None   \n",
      "1   2        1         None   \n",
      "2   3        2         None   \n",
      "3   4        2         None   \n",
      "4   5        2         None   \n",
      "\n",
      "                                                tags  \\\n",
      "0     mangaAnimeMerch, diyTools, mechanicalKeyboards   \n",
      "1  collectiblePins, petSittingDogWalking, vintage...   \n",
      "2                             customToys, bakedGoods   \n",
      "3     clayModelingKits, codingLessons, tattooDesigns   \n",
      "4                 leatherGoods, bikeRepairs, watches   \n",
      "\n",
      "                                                text  \\\n",
      "0  Really describe particularly whose opportunity...   \n",
      "1  Analysis father board everybody. Car begin evi...   \n",
      "2  Per assume community dog happy really stop. Ch...   \n",
      "3  By song new know. Particularly third all inves...   \n",
      "4  Three writer policy building. Offer the capita...   \n",
      "\n",
      "                                            new_tags  \n",
      "0  manga Anime Merch, diy Tools, mechanical Keybo...  \n",
      "1  collectible Pins, pet Sitting Dog Walking, vin...  \n",
      "2                           custom Toys, baked Goods  \n",
      "3  clay Modeling Kits, coding Lessons, tattoo Des...  \n",
      "4               leather Goods, bike Repairs, watches  \n"
     ]
    }
   ],
   "source": [
    "# Connecting to Database\n",
    "# If you're Ace\n",
    "con = sqlite3.connect(\"/home/acequantum/playtime/dummy_data/1_dummy_data.db\")\n",
    "# If you're Sean\n",
    "# con = sqlite3.connect(\"C:/Users/seana/OneDrive/Documents/Learning_Playground/Time_data.db\")\n",
    "\n",
    "# cur = con.cursor()\n",
    "\n",
    "# for row in cur.execute('SELECT * FROM posts LIMIT 3;'):\n",
    "    # print(row)\n",
    "\n",
    "df = pd.read_sql_query(\"SELECT * FROM posts;\", con)\n",
    "\n",
    "# print(df.head())\n",
    "\n",
    "df['new_tags'] = df['tags']\n",
    "\n",
    "# print(df.head())\n",
    "\n",
    "df['new_tags'] = df['tags'].apply(camel_case_split)\n",
    "\n",
    "print(df.head())\n",
    "\n",
    "# closing connection\n",
    "con.close()"
   ]
  },
  {
   "cell_type": "markdown",
   "metadata": {},
   "source": [
    "I'm at a toss up if I want to do a small bit of EDA and then use BERT to get us some more tags or if the deliminated data is enough to go forward with full EDA. I'll lyk."
   ]
  },
  {
   "cell_type": "code",
   "execution_count": 7,
   "metadata": {},
   "outputs": [
    {
     "name": "stdout",
     "output_type": "stream",
     "text": [
      "Unique tags:\n",
      " ['manga Anime Merch' 'diy Tools' 'mechanical Keyboards' 'collectible Pins'\n",
      " 'pet Sitting Dog Walking' 'vintage Clothing' 'custom Toys' 'baked Goods'\n",
      " 'clay Modeling Kits' 'coding Lessons' 'tattoo Designs' 'leather Goods'\n",
      " 'bike Repairs' 'watches' 'custom Stickers' 'exotic Spices'\n",
      " 'graphic Design' 'gaming Consoles' 'vintage Vinyl Records'\n",
      " 'gourmet Food Items' 'tailoring' 'art Prints Posters' 'graphic Novels'\n",
      " 'handmade Soap' 'headphones' 'online Courses' 'rare Manuscripts'\n",
      " 'artisanal Cheese' 'designer Handbags' 'camping Gear' 'books'\n",
      " 'blu Rays Dvds' 'skateboards' 'embroidery Kits' 'antique Jewelry'\n",
      " 'handyman Repairs' 'laptops' 'smartwatches' 'houseplants' 'web Design'\n",
      " 'horror Memorabilia' 'fitness Trackers' 'candles Incense' 'surfboards'\n",
      " 'tutoring' 'fresh Produce' 'VRHeadsets' 'mechanic Services'\n",
      " 'snowboarding Gear' 'homemade Preserves' 'custom Art' 'computer Parts'\n",
      " 'piano Lessons' 'local Honey' 'drones' 'comic Books' 'retro Toys'\n",
      " 'storage Solutions' 'dslr Cameras Lenses' 'vintage Postcards'\n",
      " 'fashion Accessories' 'custom Clothing' 'coffee Beans' 'sneakers'\n",
      " 'language Tutoring' 'vinyl Players' 'hiking Gear' 'wall Art'\n",
      " 'costume Jewelry' 'trading Cards' 'haircut' 'knitting Supplies'\n",
      " 'scrapbooking Materials' 'fishing Gear' 'antique Furniture'\n",
      " 'vintage Lamps' 'recording Equipment' 'scooter Parts' 'concert Merch'\n",
      " 'musical Instruments' 'sports Equipment' 'power Tools' 'bread'\n",
      " 'perfumes Colognes' 'handmade Jewelry' 'puzzles' 'board Games'\n",
      " 'pottery Classes' 'stamps' 'sunglasses' 'rare Coins Or Currency'\n",
      " 'textbooks' 'paintball Equipment' 'smart Home Devices' 'used Smartphones'\n",
      " 'handmade Rugs' 'woodworking Commissions' 'craft Supplies' 'DNDMaterials'\n",
      " 'video Games' 'autographed Memorabilia' 'art Supplies' 'action Figures'\n",
      " 'rare Board Games' 'bicycles Bike Parts' 'sewing Machines'\n",
      " 'homemade Sweets' 'small Furniture' 'graphic Cards' 'local Art'\n",
      " 'jewelry Making Kits' 'kitchen Appliances' 'photography Services'\n",
      " 'voice Acting' 'home Decor']\n",
      "Number of unique tags: 115\n"
     ]
    }
   ],
   "source": [
    "# Splitting into a list of tags\n",
    "# Because I forget that dataframes can handle lists as a field.\n",
    "df['split_tags'] = df['new_tags'].str.split(', ')\n",
    "\n",
    "# Boom Explosions\n",
    "all_tags = df['split_tags'].explode()\n",
    "\n",
    "unique_tags = all_tags.unique()\n",
    "print(\"Unique tags:\\n\", unique_tags)\n",
    "print(f\"Number of unique tags: {unique_tags.size}\")"
   ]
  },
  {
   "cell_type": "markdown",
   "metadata": {},
   "source": [
    "The ratio of tags to posts that was just under 1:10, so I'll maybe see about generating a total of 2,000, but first we'll see what the similarities that we have is."
   ]
  },
  {
   "cell_type": "code",
   "execution_count": 8,
   "metadata": {},
   "outputs": [
    {
     "data": {
      "image/png": "[encoded data removed]",
      "text/plain": [
       "<Figure size 1000x600 with 1 Axes>"
      ]
     },
     "metadata": {},
     "output_type": "display_data"
    }
   ],
   "source": [
    "model = SentenceTransformer('all-miniLM-L6-v2')\n",
    "tags = unique_tags\n",
    "\n",
    "tag_embeddings = model.encode(tags)\n",
    "\n",
    "# Reduction to human levels of understanding\n",
    "pca = PCA(n_components=2)\n",
    "tag_embeddings_2d = pca.fit_transform(tag_embeddings)\n",
    "\n",
    "# Time to plot it!\n",
    "plt.figure(figsize=(10, 6))\n",
    "plt.scatter(tag_embeddings_2d[:, 0], tag_embeddings_2d[:, 1], alpha=0.5)\n",
    "\n",
    "for i, tag in enumerate(tags):\n",
    "    plt.Annotation(tag, (tag_embeddings_2d[i, 0], tag_embeddings_2d[i, 1]))\n",
    "\n",
    "plt.title(\"Semantic Similarity of Tags (PCA)\")\n",
    "plt.show()"
   ]
  },
  {
   "cell_type": "markdown",
   "metadata": {},
   "source": [
    "Well, that did not explain much. Maybe a heatmap?"
   ]
  },
  {
   "cell_type": "code",
   "execution_count": null,
   "metadata": {},
   "outputs": [],
   "source": [
    "similarity_matrix = cosine_similarity(tag_embeddings)\n",
    "\n",
    "plt.figure(figsize=(10, 8))\n",
    "sns.heatmap(similarity_matrix,\n",
    "            xticklabels=tags,\n",
    "            yticklabels=tags,\n",
    "            annot=True, fmt=\".2f\")\n",
    "\n",
    "plt.title(\"Pairwise Cosine Similarity\")\n",
    "plt.show"
   ]
  },
  {
   "cell_type": "markdown",
   "metadata": {},
   "source": [
    "This did also not explain much."
   ]
  },
  {
   "cell_type": "code",
   "execution_count": 9,
   "metadata": {},
   "outputs": [
    {
     "ename": "TypeError",
     "evalue": "Cannot use method 'nlargest' with dtype object",
     "output_type": "error",
     "traceback": [
      "\u001b[0;31m---------------------------------------------------------------------------\u001b[0m",
      "\u001b[0;31mTypeError\u001b[0m                                 Traceback (most recent call last)",
      "Cell \u001b[0;32mIn[9], line 5\u001b[0m\n\u001b[1;32m      1\u001b[0m \u001b[38;5;66;03m# We're going to take some time to look at subsets.\u001b[39;00m\n\u001b[1;32m      2\u001b[0m \n\u001b[1;32m      3\u001b[0m \u001b[38;5;66;03m# Looking at the most used tags\u001b[39;00m\n\u001b[1;32m      4\u001b[0m top_n \u001b[38;5;241m=\u001b[39m \u001b[38;5;241m20\u001b[39m \u001b[38;5;66;03m#can be more if we want to look at more.\u001b[39;00m\n\u001b[0;32m----> 5\u001b[0m top_tags \u001b[38;5;241m=\u001b[39m \u001b[43mpd\u001b[49m\u001b[38;5;241;43m.\u001b[39;49m\u001b[43mSeries\u001b[49m\u001b[43m(\u001b[49m\u001b[43mall_tags\u001b[49m\u001b[43m)\u001b[49m\u001b[38;5;241;43m.\u001b[39;49m\u001b[43mnlargest\u001b[49m\u001b[43m(\u001b[49m\u001b[43mtop_n\u001b[49m\u001b[43m)\u001b[49m\n\u001b[1;32m      7\u001b[0m \u001b[38;5;66;03m# Random Subset\u001b[39;00m\n\u001b[1;32m      8\u001b[0m subset_size \u001b[38;5;241m=\u001b[39m \u001b[38;5;241m15\u001b[39m\n",
      "File \u001b[0;32m~/.local/lib/python3.10/site-packages/pandas/core/series.py:4252\u001b[0m, in \u001b[0;36mSeries.nlargest\u001b[0;34m(self, n, keep)\u001b[0m\n\u001b[1;32m   4154\u001b[0m \u001b[38;5;28;01mdef\u001b[39;00m\u001b[38;5;250m \u001b[39m\u001b[38;5;21mnlargest\u001b[39m(\n\u001b[1;32m   4155\u001b[0m     \u001b[38;5;28mself\u001b[39m, n: \u001b[38;5;28mint\u001b[39m \u001b[38;5;241m=\u001b[39m \u001b[38;5;241m5\u001b[39m, keep: Literal[\u001b[38;5;124m\"\u001b[39m\u001b[38;5;124mfirst\u001b[39m\u001b[38;5;124m\"\u001b[39m, \u001b[38;5;124m\"\u001b[39m\u001b[38;5;124mlast\u001b[39m\u001b[38;5;124m\"\u001b[39m, \u001b[38;5;124m\"\u001b[39m\u001b[38;5;124mall\u001b[39m\u001b[38;5;124m\"\u001b[39m] \u001b[38;5;241m=\u001b[39m \u001b[38;5;124m\"\u001b[39m\u001b[38;5;124mfirst\u001b[39m\u001b[38;5;124m\"\u001b[39m\n\u001b[1;32m   4156\u001b[0m ) \u001b[38;5;241m-\u001b[39m\u001b[38;5;241m>\u001b[39m Series:\n\u001b[1;32m   4157\u001b[0m \u001b[38;5;250m    \u001b[39m\u001b[38;5;124;03m\"\"\"\u001b[39;00m\n\u001b[1;32m   4158\u001b[0m \u001b[38;5;124;03m    Return the largest `n` elements.\u001b[39;00m\n\u001b[1;32m   4159\u001b[0m \n\u001b[0;32m   (...)\u001b[0m\n\u001b[1;32m   4250\u001b[0m \u001b[38;5;124;03m    dtype: int64\u001b[39;00m\n\u001b[1;32m   4251\u001b[0m \u001b[38;5;124;03m    \"\"\"\u001b[39;00m\n\u001b[0;32m-> 4252\u001b[0m     \u001b[38;5;28;01mreturn\u001b[39;00m \u001b[43mselectn\u001b[49m\u001b[38;5;241;43m.\u001b[39;49m\u001b[43mSelectNSeries\u001b[49m\u001b[43m(\u001b[49m\u001b[38;5;28;43mself\u001b[39;49m\u001b[43m,\u001b[49m\u001b[43m \u001b[49m\u001b[43mn\u001b[49m\u001b[38;5;241;43m=\u001b[39;49m\u001b[43mn\u001b[49m\u001b[43m,\u001b[49m\u001b[43m \u001b[49m\u001b[43mkeep\u001b[49m\u001b[38;5;241;43m=\u001b[39;49m\u001b[43mkeep\u001b[49m\u001b[43m)\u001b[49m\u001b[38;5;241;43m.\u001b[39;49m\u001b[43mnlargest\u001b[49m\u001b[43m(\u001b[49m\u001b[43m)\u001b[49m\n",
      "File \u001b[0;32m~/.local/lib/python3.10/site-packages/pandas/core/methods/selectn.py:57\u001b[0m, in \u001b[0;36mSelectN.nlargest\u001b[0;34m(self)\u001b[0m\n\u001b[1;32m     55\u001b[0m \u001b[38;5;129m@final\u001b[39m\n\u001b[1;32m     56\u001b[0m \u001b[38;5;28;01mdef\u001b[39;00m\u001b[38;5;250m \u001b[39m\u001b[38;5;21mnlargest\u001b[39m(\u001b[38;5;28mself\u001b[39m):\n\u001b[0;32m---> 57\u001b[0m     \u001b[38;5;28;01mreturn\u001b[39;00m \u001b[38;5;28;43mself\u001b[39;49m\u001b[38;5;241;43m.\u001b[39;49m\u001b[43mcompute\u001b[49m\u001b[43m(\u001b[49m\u001b[38;5;124;43m\"\u001b[39;49m\u001b[38;5;124;43mnlargest\u001b[39;49m\u001b[38;5;124;43m\"\u001b[39;49m\u001b[43m)\u001b[49m\n",
      "File \u001b[0;32m~/.local/lib/python3.10/site-packages/pandas/core/methods/selectn.py:96\u001b[0m, in \u001b[0;36mSelectNSeries.compute\u001b[0;34m(self, method)\u001b[0m\n\u001b[1;32m     94\u001b[0m dtype \u001b[38;5;241m=\u001b[39m \u001b[38;5;28mself\u001b[39m\u001b[38;5;241m.\u001b[39mobj\u001b[38;5;241m.\u001b[39mdtype\n\u001b[1;32m     95\u001b[0m \u001b[38;5;28;01mif\u001b[39;00m \u001b[38;5;129;01mnot\u001b[39;00m \u001b[38;5;28mself\u001b[39m\u001b[38;5;241m.\u001b[39mis_valid_dtype_n_method(dtype):\n\u001b[0;32m---> 96\u001b[0m     \u001b[38;5;28;01mraise\u001b[39;00m \u001b[38;5;167;01mTypeError\u001b[39;00m(\u001b[38;5;124mf\u001b[39m\u001b[38;5;124m\"\u001b[39m\u001b[38;5;124mCannot use method \u001b[39m\u001b[38;5;124m'\u001b[39m\u001b[38;5;132;01m{\u001b[39;00mmethod\u001b[38;5;132;01m}\u001b[39;00m\u001b[38;5;124m'\u001b[39m\u001b[38;5;124m with dtype \u001b[39m\u001b[38;5;132;01m{\u001b[39;00mdtype\u001b[38;5;132;01m}\u001b[39;00m\u001b[38;5;124m\"\u001b[39m)\n\u001b[1;32m     98\u001b[0m \u001b[38;5;28;01mif\u001b[39;00m n \u001b[38;5;241m<\u001b[39m\u001b[38;5;241m=\u001b[39m \u001b[38;5;241m0\u001b[39m:\n\u001b[1;32m     99\u001b[0m     \u001b[38;5;28;01mreturn\u001b[39;00m \u001b[38;5;28mself\u001b[39m\u001b[38;5;241m.\u001b[39mobj[[]]\n",
      "\u001b[0;31mTypeError\u001b[0m: Cannot use method 'nlargest' with dtype object"
     ]
    }
   ],
   "source": [
    "# We're going to take some time to look at subsets.\n",
    "\n",
    "# Looking at the most used tags\n",
    "top_n = 20 #can be more if we want to look at more.\n",
    "top_tags = pd.Series(all_tags).nlargest(top_n)\n",
    "\n",
    "# Random Subset\n",
    "subset_size = 15\n",
    "randon_tags = random.sample(tags, subset_size)\n",
    "\n",
    "# This is where we'd put category-based subsets \n",
    "# but that feels like a stretch\n",
    "\n",
    "\n",
    "# None of this is going to be useful \n",
    "# except for telling us that our tags are in no way clustering"
   ]
  },
  {
   "cell_type": "code",
   "execution_count": 12,
   "metadata": {},
   "outputs": [
    {
     "name": "stdout",
     "output_type": "stream",
     "text": [
      "tags like books:\n",
      "['textbooks', 'comic Books', 'graphic Novels', 'video Games', 'piano Lessons']\n"
     ]
    }
   ],
   "source": [
    "# Looks like we can use some BERT stuff again?\n",
    "def get_similar_tags(seed_tag, tags, embeddings, top_k=5):\n",
    "    seed_idx = tags.index(seed_tag)\n",
    "    seed_embedding = embeddings[seed_idx].reshape(1, -1)\n",
    "    similarities = cosine_similarity(seed_embedding, embeddings)[0]\n",
    "    similar_indices = similarities.argsort()[-top_k-1:-1][::-1]\n",
    "    return [tags[i] for i in similar_indices]\n",
    "\n",
    "similar_to_bread = get_similar_tags(\"bread\", unique_tags.tolist(), tag_embeddings)\n",
    "similar_to_books = get_similar_tags(\"books\", unique_tags.tolist(), tag_embeddings)\n",
    "\n",
    "print(f\"tags like books:\\n{similar_to_books}\")"
   ]
  },
  {
   "cell_type": "markdown",
   "metadata": {},
   "source": [
    "Well, uh... we might need more tags with the help of BERT since he seems to think that of the unique 115 tags that we have, books and sneakers are among the closes relation to bread. I think we did fairly decent with baked goods and coffee means though."
   ]
  },
  {
   "cell_type": "code",
   "execution_count": null,
   "metadata": {},
   "outputs": [],
   "source": [
    "# https://huggingface.co/spaces/GT4SD/keyword_bert\n",
    "kw_model = KeyBERT()\n",
    "seed_tags = unique_tags.tolist()[:20]\n",
    "\n",
    "full_list_of_tags = []\n",
    "\n",
    "for tag in seed_tags:\n",
    "    keywords = kw_model.extract_keywords(tag, keyphrase_ngram_range=(1,2))\n",
    "    print(tag, keywords)"
   ]
  },
  {
   "cell_type": "markdown",
   "metadata": {},
   "source": [
    "Well... it's not the best, but it's a bit better I guess?<br>\n",
    "It's good enough to get us to the next step I guess."
   ]
  }
 ],
 "metadata": {
  "kernelspec": {
   "display_name": "Python 3",
   "language": "python",
   "name": "python3"
  },
  "language_info": {
   "codemirror_mode": {
    "name": "ipython",
    "version": 3
   },
   "file_extension": ".py",
   "mimetype": "text/x-python",
   "name": "python",
   "nbconvert_exporter": "python",
   "pygments_lexer": "ipython3",
   "version": "3.10.12"
  }
 },
 "nbformat": 4,
 "nbformat_minor": 2
}

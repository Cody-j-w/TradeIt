{
 "cells": [
  {
   "cell_type": "markdown",
   "metadata": {},
   "source": [
    "Lots to do, so we're gonna start with some basic pre-processing<br>\n",
    "I'm not sure what else we need at this time other than tokenizing the tags you've generated<br>\n",
    "I'll also take a look at how BERT might help us out."
   ]
  },
  {
   "cell_type": "code",
   "execution_count": 8,
   "metadata": {},
   "outputs": [],
   "source": [
    "import pandas as pd\n",
    "from sentence_transformers import SentenceTransformer\n",
    "# ^^ hugging face library for word embeddings\n",
    "import sqlite3\n",
    "import re\n",
    "\n",
    "# print(\"howdy\")"
   ]
  },
  {
   "cell_type": "markdown",
   "metadata": {},
   "source": [
    "Ok so now I pull data from database<br>\n",
    "I definitely remember how to do that"
   ]
  },
  {
   "cell_type": "code",
   "execution_count": 20,
   "metadata": {},
   "outputs": [],
   "source": [
    "# Function for splitting camel case\n",
    "# https://www.geeksforgeeks.org/python-split-camelcase-string-to-individual-strings/\n",
    "\n",
    "def camel_case_split(str):\n",
    "    return re.sub(r'([a-z])([A-Z])',\n",
    "                      r'\\1 \\2', str)"
   ]
  },
  {
   "cell_type": "code",
   "execution_count": 21,
   "metadata": {},
   "outputs": [
    {
     "name": "stdout",
     "output_type": "stream",
     "text": [
      "   id  user_id trade_status  \\\n",
      "0   1        1         None   \n",
      "1   2        1         None   \n",
      "2   3        2         None   \n",
      "3   4        2         None   \n",
      "4   5        2         None   \n",
      "\n",
      "                                                tags  \\\n",
      "0     mangaAnimeMerch, diyTools, mechanicalKeyboards   \n",
      "1  collectiblePins, petSittingDogWalking, vintage...   \n",
      "2                             customToys, bakedGoods   \n",
      "3     clayModelingKits, codingLessons, tattooDesigns   \n",
      "4                 leatherGoods, bikeRepairs, watches   \n",
      "\n",
      "                                                text  \\\n",
      "0  Really describe particularly whose opportunity...   \n",
      "1  Analysis father board everybody. Car begin evi...   \n",
      "2  Per assume community dog happy really stop. Ch...   \n",
      "3  By song new know. Particularly third all inves...   \n",
      "4  Three writer policy building. Offer the capita...   \n",
      "\n",
      "                                            new_tags  \n",
      "0  manga Anime Merch, diy Tools, mechanical Keybo...  \n",
      "1  collectible Pins, pet Sitting Dog Walking, vin...  \n",
      "2                           custom Toys, baked Goods  \n",
      "3  clay Modeling Kits, coding Lessons, tattoo Des...  \n",
      "4               leather Goods, bike Repairs, watches  \n"
     ]
    }
   ],
   "source": [
    "# Connecting to Database\n",
    "# If you're Ace\n",
    "con = sqlite3.connect(\"/home/acequantum/playtime/dummy_data/1_dummy_data.db\")\n",
    "# If you're Sean\n",
    "# con = sqlite3.connect(\"C:/Users/seana/OneDrive/Documents/Learning_Playground/Time_data.db\")\n",
    "\n",
    "# cur = con.cursor()\n",
    "\n",
    "# for row in cur.execute('SELECT * FROM posts LIMIT 3;'):\n",
    "    # print(row)\n",
    "\n",
    "df = pd.read_sql_query(\"SELECT * FROM posts;\", con)\n",
    "\n",
    "# print(df.head())\n",
    "\n",
    "df['new_tags'] = df['tags']\n",
    "\n",
    "df['new_tags'] = df['tags'].apply(camel_case_split)\n",
    "\n",
    "print(df.head())\n",
    "\n",
    "# closing connection\n",
    "con.close()"
   ]
  }
 ],
 "metadata": {
  "kernelspec": {
   "display_name": "Python 3",
   "language": "python",
   "name": "python3"
  },
  "language_info": {
   "codemirror_mode": {
    "name": "ipython",
    "version": 3
   },
   "file_extension": ".py",
   "mimetype": "text/x-python",
   "name": "python",
   "nbconvert_exporter": "python",
   "pygments_lexer": "ipython3",
   "version": "3.10.12"
  }
 },
 "nbformat": 4,
 "nbformat_minor": 2
}
